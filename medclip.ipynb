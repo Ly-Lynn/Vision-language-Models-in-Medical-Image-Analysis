{
 "cells": [
  {
   "cell_type": "code",
   "execution_count": 1,
   "id": "4f40c805",
   "metadata": {},
   "outputs": [
    {
     "name": "stdout",
     "output_type": "stream",
     "text": [
      "Sun Sep 21 08:07:04 2025       \n",
      "+-----------------------------------------------------------------------------------------+\n",
      "| NVIDIA-SMI 550.163.01             Driver Version: 550.163.01     CUDA Version: 12.4     |\n",
      "|-----------------------------------------+------------------------+----------------------+\n",
      "| GPU  Name                 Persistence-M | Bus-Id          Disp.A | Volatile Uncorr. ECC |\n",
      "| Fan  Temp   Perf          Pwr:Usage/Cap |           Memory-Usage | GPU-Util  Compute M. |\n",
      "|                                         |                        |               MIG M. |\n",
      "|=========================================+========================+======================|\n"
     ]
    },
    {
     "name": "stdout",
     "output_type": "stream",
     "text": [
      "|   0  Tesla T4                       On  |   00000000:00:1E.0 Off |                    0 |\n",
      "| N/A   32C    P8             14W /   70W |       1MiB /  15360MiB |      0%      Default |\n",
      "|                                         |                        |                  N/A |\n",
      "+-----------------------------------------+------------------------+----------------------+\n",
      "                                                                                         \n",
      "+-----------------------------------------------------------------------------------------+\n",
      "| Processes:                                                                              |\n",
      "|  GPU   GI   CI        PID   Type   Process name                              GPU Memory |\n",
      "|        ID   ID                                                               Usage      |\n",
      "|=========================================================================================|\n",
      "|  No running processes found                                                             |\n",
      "+-----------------------------------------------------------------------------------------+\n"
     ]
    }
   ],
   "source": [
    "!nvidia-smi"
   ]
  },
  {
   "cell_type": "code",
   "execution_count": 2,
   "id": "5f5789be",
   "metadata": {},
   "outputs": [
    {
     "name": "stdout",
     "output_type": "stream",
     "text": [
      "Collecting git+https://github.com/RyanWangZf/MedCLIP.git\n",
      "  Cloning https://github.com/RyanWangZf/MedCLIP.git to /tmp/pip-req-build-y8i17j9e\n",
      "  Running command git clone --filter=blob:none --quiet https://github.com/RyanWangZf/MedCLIP.git /tmp/pip-req-build-y8i17j9e\n"
     ]
    },
    {
     "name": "stdout",
     "output_type": "stream",
     "text": [
      "  Resolved https://github.com/RyanWangZf/MedCLIP.git to commit 9c3396f20d5d54e4fae241b8cb06ca45848e98c9\n",
      "  Preparing metadata (setup.py) ... \u001b[?25ldone\n",
      "\u001b[?25hRequirement already satisfied: numpy in /usr/local/lib/python3.10/dist-packages (from MedCLIP==0.0.3) (1.25.2)\n",
      "Requirement already satisfied: pandas in /usr/local/lib/python3.10/dist-packages (from MedCLIP==0.0.3) (1.5.2)\n",
      "Requirement already satisfied: Pillow in /usr/local/lib/python3.10/dist-packages (from MedCLIP==0.0.3) (11.3.0)\n",
      "Requirement already satisfied: requests in /usr/local/lib/python3.10/dist-packages (from MedCLIP==0.0.3) (2.32.5)\n",
      "Requirement already satisfied: tqdm in /usr/local/lib/python3.10/dist-packages (from MedCLIP==0.0.3) (4.67.1)\n",
      "Requirement already satisfied: wget in /usr/local/lib/python3.10/dist-packages (from MedCLIP==0.0.3) (3.2)\n",
      "Requirement already satisfied: nltk>=3.7 in /usr/local/lib/python3.10/dist-packages (from MedCLIP==0.0.3) (3.9.1)\n",
      "Requirement already satisfied: scikit_learn>=1.1.2 in /usr/local/lib/python3.10/dist-packages (from MedCLIP==0.0.3) (1.2.0)\n",
      "Requirement already satisfied: textaugment>=1.3.4 in /usr/local/lib/python3.10/dist-packages (from MedCLIP==0.0.3) (2.0.0)\n",
      "Requirement already satisfied: timm>=0.6.11 in /usr/local/lib/python3.10/dist-packages (from MedCLIP==0.0.3) (1.0.19)\n",
      "Requirement already satisfied: torch>=1.12.1 in /usr/local/lib/python3.10/dist-packages (from MedCLIP==0.0.3) (2.8.0)\n",
      "Requirement already satisfied: torchvision>=0.13.1 in /usr/local/lib/python3.10/dist-packages (from MedCLIP==0.0.3) (0.23.0)\n",
      "Requirement already satisfied: transformers<=4.24.0,>=4.23.1 in /usr/local/lib/python3.10/dist-packages (from MedCLIP==0.0.3) (4.24.0)\n",
      "Requirement already satisfied: click in /usr/local/lib/python3.10/dist-packages (from nltk>=3.7->MedCLIP==0.0.3) (8.2.1)\n",
      "Requirement already satisfied: joblib in /usr/local/lib/python3.10/dist-packages (from nltk>=3.7->MedCLIP==0.0.3) (1.5.2)\n",
      "Requirement already satisfied: regex>=2021.8.3 in /usr/local/lib/python3.10/dist-packages (from nltk>=3.7->MedCLIP==0.0.3) (2025.9.18)\n",
      "Requirement already satisfied: scipy>=1.3.2 in /usr/local/lib/python3.10/dist-packages (from scikit_learn>=1.1.2->MedCLIP==0.0.3) (1.9.3)\n",
      "Requirement already satisfied: threadpoolctl>=2.0.0 in /usr/local/lib/python3.10/dist-packages (from scikit_learn>=1.1.2->MedCLIP==0.0.3) (3.6.0)\n",
      "Requirement already satisfied: gensim>=4.0 in /usr/local/lib/python3.10/dist-packages (from textaugment>=1.3.4->MedCLIP==0.0.3) (4.3.3)\n",
      "Requirement already satisfied: textblob in /usr/local/lib/python3.10/dist-packages (from textaugment>=1.3.4->MedCLIP==0.0.3) (0.19.0)\n",
      "Requirement already satisfied: googletrans>=2 in /usr/local/lib/python3.10/dist-packages (from textaugment>=1.3.4->MedCLIP==0.0.3) (4.0.2)\n",
      "Requirement already satisfied: pyyaml in /usr/local/lib/python3.10/dist-packages (from timm>=0.6.11->MedCLIP==0.0.3) (6.0.2)\n",
      "Requirement already satisfied: huggingface_hub in /usr/local/lib/python3.10/dist-packages (from timm>=0.6.11->MedCLIP==0.0.3) (0.35.0)\n",
      "Requirement already satisfied: safetensors in /usr/local/lib/python3.10/dist-packages (from timm>=0.6.11->MedCLIP==0.0.3) (0.6.2)\n",
      "Requirement already satisfied: filelock in /usr/local/lib/python3.10/dist-packages (from torch>=1.12.1->MedCLIP==0.0.3) (3.19.1)\n",
      "Requirement already satisfied: typing-extensions>=4.10.0 in /usr/local/lib/python3.10/dist-packages (from torch>=1.12.1->MedCLIP==0.0.3) (4.15.0)\n",
      "Requirement already satisfied: sympy>=1.13.3 in /usr/local/lib/python3.10/dist-packages (from torch>=1.12.1->MedCLIP==0.0.3) (1.14.0)\n",
      "Requirement already satisfied: networkx in /usr/local/lib/python3.10/dist-packages (from torch>=1.12.1->MedCLIP==0.0.3) (3.4.2)\n",
      "Requirement already satisfied: jinja2 in /usr/local/lib/python3.10/dist-packages (from torch>=1.12.1->MedCLIP==0.0.3) (3.1.6)\n",
      "Requirement already satisfied: fsspec in /usr/local/lib/python3.10/dist-packages (from torch>=1.12.1->MedCLIP==0.0.3) (2023.10.0)\n",
      "Requirement already satisfied: nvidia-cuda-nvrtc-cu12==12.8.93 in /usr/local/lib/python3.10/dist-packages (from torch>=1.12.1->MedCLIP==0.0.3) (12.8.93)\n",
      "Requirement already satisfied: nvidia-cuda-runtime-cu12==12.8.90 in /usr/local/lib/python3.10/dist-packages (from torch>=1.12.1->MedCLIP==0.0.3) (12.8.90)\n",
      "Requirement already satisfied: nvidia-cuda-cupti-cu12==12.8.90 in /usr/local/lib/python3.10/dist-packages (from torch>=1.12.1->MedCLIP==0.0.3) (12.8.90)\n",
      "Requirement already satisfied: nvidia-cudnn-cu12==9.10.2.21 in /usr/local/lib/python3.10/dist-packages (from torch>=1.12.1->MedCLIP==0.0.3) (9.10.2.21)\n",
      "Requirement already satisfied: nvidia-cublas-cu12==12.8.4.1 in /usr/local/lib/python3.10/dist-packages (from torch>=1.12.1->MedCLIP==0.0.3) (12.8.4.1)\n",
      "Requirement already satisfied: nvidia-cufft-cu12==11.3.3.83 in /usr/local/lib/python3.10/dist-packages (from torch>=1.12.1->MedCLIP==0.0.3) (11.3.3.83)\n",
      "Requirement already satisfied: nvidia-curand-cu12==10.3.9.90 in /usr/local/lib/python3.10/dist-packages (from torch>=1.12.1->MedCLIP==0.0.3) (10.3.9.90)\n",
      "Requirement already satisfied: nvidia-cusolver-cu12==11.7.3.90 in /usr/local/lib/python3.10/dist-packages (from torch>=1.12.1->MedCLIP==0.0.3) (11.7.3.90)\n",
      "Requirement already satisfied: nvidia-cusparse-cu12==12.5.8.93 in /usr/local/lib/python3.10/dist-packages (from torch>=1.12.1->MedCLIP==0.0.3) (12.5.8.93)\n",
      "Requirement already satisfied: nvidia-cusparselt-cu12==0.7.1 in /usr/local/lib/python3.10/dist-packages (from torch>=1.12.1->MedCLIP==0.0.3) (0.7.1)\n",
      "Requirement already satisfied: nvidia-nccl-cu12==2.27.3 in /usr/local/lib/python3.10/dist-packages (from torch>=1.12.1->MedCLIP==0.0.3) (2.27.3)\n",
      "Requirement already satisfied: nvidia-nvtx-cu12==12.8.90 in /usr/local/lib/python3.10/dist-packages (from torch>=1.12.1->MedCLIP==0.0.3) (12.8.90)\n",
      "Requirement already satisfied: nvidia-nvjitlink-cu12==12.8.93 in /usr/local/lib/python3.10/dist-packages (from torch>=1.12.1->MedCLIP==0.0.3) (12.8.93)\n",
      "Requirement already satisfied: nvidia-cufile-cu12==1.13.1.3 in /usr/local/lib/python3.10/dist-packages (from torch>=1.12.1->MedCLIP==0.0.3) (1.13.1.3)\n",
      "Requirement already satisfied: triton==3.4.0 in /usr/local/lib/python3.10/dist-packages (from torch>=1.12.1->MedCLIP==0.0.3) (3.4.0)\n",
      "Requirement already satisfied: setuptools>=40.8.0 in /usr/local/lib/python3.10/dist-packages (from triton==3.4.0->torch>=1.12.1->MedCLIP==0.0.3) (75.3.0)\n",
      "Requirement already satisfied: packaging>=20.0 in /usr/local/lib/python3.10/dist-packages (from transformers<=4.24.0,>=4.23.1->MedCLIP==0.0.3) (25.0)\n",
      "Requirement already satisfied: tokenizers!=0.11.3,<0.14,>=0.11.1 in /usr/local/lib/python3.10/dist-packages (from transformers<=4.24.0,>=4.23.1->MedCLIP==0.0.3) (0.13.3)\n",
      "Requirement already satisfied: python-dateutil>=2.8.1 in /usr/local/lib/python3.10/dist-packages (from pandas->MedCLIP==0.0.3) (2.9.0.post0)\n",
      "Requirement already satisfied: pytz>=2020.1 in /usr/local/lib/python3.10/dist-packages (from pandas->MedCLIP==0.0.3) (2025.2)\n",
      "Requirement already satisfied: charset_normalizer<4,>=2 in /usr/local/lib/python3.10/dist-packages (from requests->MedCLIP==0.0.3) (2.1.1)\n",
      "Requirement already satisfied: idna<4,>=2.5 in /usr/local/lib/python3.10/dist-packages (from requests->MedCLIP==0.0.3) (3.10)\n",
      "Requirement already satisfied: urllib3<3,>=1.21.1 in /usr/local/lib/python3.10/dist-packages (from requests->MedCLIP==0.0.3) (1.26.20)\n",
      "Requirement already satisfied: certifi>=2017.4.17 in /usr/local/lib/python3.10/dist-packages (from requests->MedCLIP==0.0.3) (2025.8.3)\n",
      "Requirement already satisfied: smart-open>=1.8.1 in /usr/local/lib/python3.10/dist-packages (from gensim>=4.0->textaugment>=1.3.4->MedCLIP==0.0.3) (7.3.1)\n",
      "Requirement already satisfied: httpx>=0.27.2 in /usr/local/lib/python3.10/dist-packages (from httpx[http2]>=0.27.2->googletrans>=2->textaugment>=1.3.4->MedCLIP==0.0.3) (0.28.1)\n",
      "Requirement already satisfied: hf-xet<2.0.0,>=1.1.3 in /usr/local/lib/python3.10/dist-packages (from huggingface_hub->timm>=0.6.11->MedCLIP==0.0.3) (1.1.10)\n",
      "Requirement already satisfied: six>=1.5 in /usr/lib/python3/dist-packages (from python-dateutil>=2.8.1->pandas->MedCLIP==0.0.3) (1.16.0)\n",
      "Requirement already satisfied: mpmath<1.4,>=1.1.0 in /usr/local/lib/python3.10/dist-packages (from sympy>=1.13.3->torch>=1.12.1->MedCLIP==0.0.3) (1.3.0)\n",
      "Requirement already satisfied: MarkupSafe>=2.0 in /usr/local/lib/python3.10/dist-packages (from jinja2->torch>=1.12.1->MedCLIP==0.0.3) (3.0.2)\n",
      "Requirement already satisfied: anyio in /usr/local/lib/python3.10/dist-packages (from httpx>=0.27.2->httpx[http2]>=0.27.2->googletrans>=2->textaugment>=1.3.4->MedCLIP==0.0.3) (4.10.0)\n",
      "Requirement already satisfied: httpcore==1.* in /usr/local/lib/python3.10/dist-packages (from httpx>=0.27.2->httpx[http2]>=0.27.2->googletrans>=2->textaugment>=1.3.4->MedCLIP==0.0.3) (1.0.9)\n",
      "Requirement already satisfied: h11>=0.16 in /usr/local/lib/python3.10/dist-packages (from httpcore==1.*->httpx>=0.27.2->httpx[http2]>=0.27.2->googletrans>=2->textaugment>=1.3.4->MedCLIP==0.0.3) (0.16.0)\n",
      "Requirement already satisfied: h2<5,>=3 in /usr/local/lib/python3.10/dist-packages (from httpx[http2]>=0.27.2->googletrans>=2->textaugment>=1.3.4->MedCLIP==0.0.3) (4.3.0)\n",
      "Requirement already satisfied: wrapt in /usr/local/lib/python3.10/dist-packages (from smart-open>=1.8.1->gensim>=4.0->textaugment>=1.3.4->MedCLIP==0.0.3) (1.17.3)\n",
      "Requirement already satisfied: hyperframe<7,>=6.1 in /usr/local/lib/python3.10/dist-packages (from h2<5,>=3->httpx[http2]>=0.27.2->googletrans>=2->textaugment>=1.3.4->MedCLIP==0.0.3) (6.1.0)\n",
      "Requirement already satisfied: hpack<5,>=4.1 in /usr/local/lib/python3.10/dist-packages (from h2<5,>=3->httpx[http2]>=0.27.2->googletrans>=2->textaugment>=1.3.4->MedCLIP==0.0.3) (4.1.0)\n",
      "Requirement already satisfied: exceptiongroup>=1.0.2 in /usr/local/lib/python3.10/dist-packages (from anyio->httpx>=0.27.2->httpx[http2]>=0.27.2->googletrans>=2->textaugment>=1.3.4->MedCLIP==0.0.3) (1.3.0)\n",
      "Requirement already satisfied: sniffio>=1.1 in /usr/local/lib/python3.10/dist-packages (from anyio->httpx>=0.27.2->httpx[http2]>=0.27.2->googletrans>=2->textaugment>=1.3.4->MedCLIP==0.0.3) (1.3.1)\n",
      "\u001b[33mWARNING: Running pip as the 'root' user can result in broken permissions and conflicting behaviour with the system package manager, possibly rendering your system unusable.It is recommended to use a virtual environment instead: https://pip.pypa.io/warnings/venv. Use the --root-user-action option if you know what you are doing and want to suppress this warning.\u001b[0m\u001b[33m\n",
      "\u001b[0m\n",
      "\u001b[1m[\u001b[0m\u001b[34;49mnotice\u001b[0m\u001b[1;39;49m]\u001b[0m\u001b[39;49m A new release of pip is available: \u001b[0m\u001b[31;49m24.3.1\u001b[0m\u001b[39;49m -> \u001b[0m\u001b[32;49m25.2\u001b[0m\n",
      "\u001b[1m[\u001b[0m\u001b[34;49mnotice\u001b[0m\u001b[1;39;49m]\u001b[0m\u001b[39;49m To update, run: \u001b[0m\u001b[32;49mpip install --upgrade pip\u001b[0m\n",
      "Requirement already satisfied: pyarrow==14.0.2 in /usr/local/lib/python3.10/dist-packages (14.0.2)\n",
      "Requirement already satisfied: datasets==2.16.1 in /usr/local/lib/python3.10/dist-packages (2.16.1)\n",
      "Requirement already satisfied: numpy>=1.16.6 in /usr/local/lib/python3.10/dist-packages (from pyarrow==14.0.2) (1.25.2)\n",
      "Requirement already satisfied: filelock in /usr/local/lib/python3.10/dist-packages (from datasets==2.16.1) (3.19.1)\n",
      "Requirement already satisfied: pyarrow-hotfix in /usr/local/lib/python3.10/dist-packages (from datasets==2.16.1) (0.7)\n",
      "Requirement already satisfied: dill<0.3.8,>=0.3.0 in /usr/local/lib/python3.10/dist-packages (from datasets==2.16.1) (0.3.7)\n",
      "Requirement already satisfied: pandas in /usr/local/lib/python3.10/dist-packages (from datasets==2.16.1) (1.5.2)\n",
      "Requirement already satisfied: requests>=2.19.0 in /usr/local/lib/python3.10/dist-packages (from datasets==2.16.1) (2.32.5)\n",
      "Requirement already satisfied: tqdm>=4.62.1 in /usr/local/lib/python3.10/dist-packages (from datasets==2.16.1) (4.67.1)\n",
      "Requirement already satisfied: xxhash in /usr/local/lib/python3.10/dist-packages (from datasets==2.16.1) (3.5.0)\n",
      "Requirement already satisfied: multiprocess in /usr/local/lib/python3.10/dist-packages (from datasets==2.16.1) (0.70.15)\n",
      "Requirement already satisfied: fsspec<=2023.10.0,>=2023.1.0 in /usr/local/lib/python3.10/dist-packages (from fsspec[http]<=2023.10.0,>=2023.1.0->datasets==2.16.1) (2023.10.0)\n",
      "Requirement already satisfied: aiohttp in /usr/local/lib/python3.10/dist-packages (from datasets==2.16.1) (3.12.15)\n",
      "Requirement already satisfied: huggingface-hub>=0.19.4 in /usr/local/lib/python3.10/dist-packages (from datasets==2.16.1) (0.35.0)\n",
      "Requirement already satisfied: packaging in /usr/local/lib/python3.10/dist-packages (from datasets==2.16.1) (25.0)\n",
      "Requirement already satisfied: pyyaml>=5.1 in /usr/local/lib/python3.10/dist-packages (from datasets==2.16.1) (6.0.2)\n",
      "Requirement already satisfied: aiohappyeyeballs>=2.5.0 in /usr/local/lib/python3.10/dist-packages (from aiohttp->datasets==2.16.1) (2.6.1)\n",
      "Requirement already satisfied: aiosignal>=1.4.0 in /usr/local/lib/python3.10/dist-packages (from aiohttp->datasets==2.16.1) (1.4.0)\n",
      "Requirement already satisfied: async-timeout<6.0,>=4.0 in /usr/local/lib/python3.10/dist-packages (from aiohttp->datasets==2.16.1) (5.0.1)\n",
      "Requirement already satisfied: attrs>=17.3.0 in /usr/local/lib/python3.10/dist-packages (from aiohttp->datasets==2.16.1) (25.3.0)\n",
      "Requirement already satisfied: frozenlist>=1.1.1 in /usr/local/lib/python3.10/dist-packages (from aiohttp->datasets==2.16.1) (1.7.0)\n",
      "Requirement already satisfied: multidict<7.0,>=4.5 in /usr/local/lib/python3.10/dist-packages (from aiohttp->datasets==2.16.1) (6.6.4)\n",
      "Requirement already satisfied: propcache>=0.2.0 in /usr/local/lib/python3.10/dist-packages (from aiohttp->datasets==2.16.1) (0.3.2)\n",
      "Requirement already satisfied: yarl<2.0,>=1.17.0 in /usr/local/lib/python3.10/dist-packages (from aiohttp->datasets==2.16.1) (1.20.1)\n",
      "Requirement already satisfied: typing-extensions>=3.7.4.3 in /usr/local/lib/python3.10/dist-packages (from huggingface-hub>=0.19.4->datasets==2.16.1) (4.15.0)\n",
      "Requirement already satisfied: hf-xet<2.0.0,>=1.1.3 in /usr/local/lib/python3.10/dist-packages (from huggingface-hub>=0.19.4->datasets==2.16.1) (1.1.10)\n",
      "Requirement already satisfied: charset_normalizer<4,>=2 in /usr/local/lib/python3.10/dist-packages (from requests>=2.19.0->datasets==2.16.1) (2.1.1)\n",
      "Requirement already satisfied: idna<4,>=2.5 in /usr/local/lib/python3.10/dist-packages (from requests>=2.19.0->datasets==2.16.1) (3.10)\n",
      "Requirement already satisfied: urllib3<3,>=1.21.1 in /usr/local/lib/python3.10/dist-packages (from requests>=2.19.0->datasets==2.16.1) (1.26.20)\n",
      "Requirement already satisfied: certifi>=2017.4.17 in /usr/local/lib/python3.10/dist-packages (from requests>=2.19.0->datasets==2.16.1) (2025.8.3)\n",
      "Requirement already satisfied: python-dateutil>=2.8.1 in /usr/local/lib/python3.10/dist-packages (from pandas->datasets==2.16.1) (2.9.0.post0)\n",
      "Requirement already satisfied: pytz>=2020.1 in /usr/local/lib/python3.10/dist-packages (from pandas->datasets==2.16.1) (2025.2)\n",
      "Requirement already satisfied: six>=1.5 in /usr/lib/python3/dist-packages (from python-dateutil>=2.8.1->pandas->datasets==2.16.1) (1.16.0)\n",
      "\u001b[33mWARNING: Running pip as the 'root' user can result in broken permissions and conflicting behaviour with the system package manager, possibly rendering your system unusable.It is recommended to use a virtual environment instead: https://pip.pypa.io/warnings/venv. Use the --root-user-action option if you know what you are doing and want to suppress this warning.\u001b[0m\u001b[33m\n",
      "\u001b[0m\n",
      "\u001b[1m[\u001b[0m\u001b[34;49mnotice\u001b[0m\u001b[1;39;49m]\u001b[0m\u001b[39;49m A new release of pip is available: \u001b[0m\u001b[31;49m24.3.1\u001b[0m\u001b[39;49m -> \u001b[0m\u001b[32;49m25.2\u001b[0m\n",
      "\u001b[1m[\u001b[0m\u001b[34;49mnotice\u001b[0m\u001b[1;39;49m]\u001b[0m\u001b[39;49m To update, run: \u001b[0m\u001b[32;49mpip install --upgrade pip\u001b[0m\n"
     ]
    }
   ],
   "source": [
    "!pip install git+https://github.com/RyanWangZf/MedCLIP.git\n",
    "!pip install pyarrow==14.0.2 datasets==2.16.1"
   ]
  },
  {
   "cell_type": "code",
   "execution_count": 3,
   "id": "89e35cad",
   "metadata": {},
   "outputs": [
    {
     "name": "stdout",
     "output_type": "stream",
     "text": [
      "Requirement already satisfied: kagglehub in /usr/local/lib/python3.10/dist-packages (0.3.13)\n",
      "Requirement already satisfied: datasets in /usr/local/lib/python3.10/dist-packages (2.16.1)\n",
      "Requirement already satisfied: packaging in /usr/local/lib/python3.10/dist-packages (from kagglehub) (25.0)\n",
      "Requirement already satisfied: pyyaml in /usr/local/lib/python3.10/dist-packages (from kagglehub) (6.0.2)\n",
      "Requirement already satisfied: requests in /usr/local/lib/python3.10/dist-packages (from kagglehub) (2.32.5)\n",
      "Requirement already satisfied: tqdm in /usr/local/lib/python3.10/dist-packages (from kagglehub) (4.67.1)\n",
      "Requirement already satisfied: filelock in /usr/local/lib/python3.10/dist-packages (from datasets) (3.19.1)\n",
      "Requirement already satisfied: numpy>=1.17 in /usr/local/lib/python3.10/dist-packages (from datasets) (1.25.2)\n",
      "Requirement already satisfied: pyarrow>=8.0.0 in /usr/local/lib/python3.10/dist-packages (from datasets) (14.0.2)\n",
      "Requirement already satisfied: pyarrow-hotfix in /usr/local/lib/python3.10/dist-packages (from datasets) (0.7)\n",
      "Requirement already satisfied: dill<0.3.8,>=0.3.0 in /usr/local/lib/python3.10/dist-packages (from datasets) (0.3.7)\n",
      "Requirement already satisfied: pandas in /usr/local/lib/python3.10/dist-packages (from datasets) (1.5.2)\n",
      "Requirement already satisfied: xxhash in /usr/local/lib/python3.10/dist-packages (from datasets) (3.5.0)\n",
      "Requirement already satisfied: multiprocess in /usr/local/lib/python3.10/dist-packages (from datasets) (0.70.15)\n",
      "Requirement already satisfied: fsspec<=2023.10.0,>=2023.1.0 in /usr/local/lib/python3.10/dist-packages (from fsspec[http]<=2023.10.0,>=2023.1.0->datasets) (2023.10.0)\n",
      "Requirement already satisfied: aiohttp in /usr/local/lib/python3.10/dist-packages (from datasets) (3.12.15)\n",
      "Requirement already satisfied: huggingface-hub>=0.19.4 in /usr/local/lib/python3.10/dist-packages (from datasets) (0.35.0)\n",
      "Requirement already satisfied: aiohappyeyeballs>=2.5.0 in /usr/local/lib/python3.10/dist-packages (from aiohttp->datasets) (2.6.1)\n",
      "Requirement already satisfied: aiosignal>=1.4.0 in /usr/local/lib/python3.10/dist-packages (from aiohttp->datasets) (1.4.0)\n",
      "Requirement already satisfied: async-timeout<6.0,>=4.0 in /usr/local/lib/python3.10/dist-packages (from aiohttp->datasets) (5.0.1)\n",
      "Requirement already satisfied: attrs>=17.3.0 in /usr/local/lib/python3.10/dist-packages (from aiohttp->datasets) (25.3.0)\n",
      "Requirement already satisfied: frozenlist>=1.1.1 in /usr/local/lib/python3.10/dist-packages (from aiohttp->datasets) (1.7.0)\n",
      "Requirement already satisfied: multidict<7.0,>=4.5 in /usr/local/lib/python3.10/dist-packages (from aiohttp->datasets) (6.6.4)\n",
      "Requirement already satisfied: propcache>=0.2.0 in /usr/local/lib/python3.10/dist-packages (from aiohttp->datasets) (0.3.2)\n",
      "Requirement already satisfied: yarl<2.0,>=1.17.0 in /usr/local/lib/python3.10/dist-packages (from aiohttp->datasets) (1.20.1)\n",
      "Requirement already satisfied: typing-extensions>=3.7.4.3 in /usr/local/lib/python3.10/dist-packages (from huggingface-hub>=0.19.4->datasets) (4.15.0)\n",
      "Requirement already satisfied: hf-xet<2.0.0,>=1.1.3 in /usr/local/lib/python3.10/dist-packages (from huggingface-hub>=0.19.4->datasets) (1.1.10)\n",
      "Requirement already satisfied: charset_normalizer<4,>=2 in /usr/local/lib/python3.10/dist-packages (from requests->kagglehub) (2.1.1)\n",
      "Requirement already satisfied: idna<4,>=2.5 in /usr/local/lib/python3.10/dist-packages (from requests->kagglehub) (3.10)\n",
      "Requirement already satisfied: urllib3<3,>=1.21.1 in /usr/local/lib/python3.10/dist-packages (from requests->kagglehub) (1.26.20)\n",
      "Requirement already satisfied: certifi>=2017.4.17 in /usr/local/lib/python3.10/dist-packages (from requests->kagglehub) (2025.8.3)\n",
      "Requirement already satisfied: python-dateutil>=2.8.1 in /usr/local/lib/python3.10/dist-packages (from pandas->datasets) (2.9.0.post0)\n",
      "Requirement already satisfied: pytz>=2020.1 in /usr/local/lib/python3.10/dist-packages (from pandas->datasets) (2025.2)\n",
      "Requirement already satisfied: six>=1.5 in /usr/lib/python3/dist-packages (from python-dateutil>=2.8.1->pandas->datasets) (1.16.0)\n",
      "\u001b[33mWARNING: Running pip as the 'root' user can result in broken permissions and conflicting behaviour with the system package manager, possibly rendering your system unusable.It is recommended to use a virtual environment instead: https://pip.pypa.io/warnings/venv. Use the --root-user-action option if you know what you are doing and want to suppress this warning.\u001b[0m\u001b[33m\n",
      "\u001b[0m\n",
      "\u001b[1m[\u001b[0m\u001b[34;49mnotice\u001b[0m\u001b[1;39;49m]\u001b[0m\u001b[39;49m A new release of pip is available: \u001b[0m\u001b[31;49m24.3.1\u001b[0m\u001b[39;49m -> \u001b[0m\u001b[32;49m25.2\u001b[0m\n",
      "\u001b[1m[\u001b[0m\u001b[34;49mnotice\u001b[0m\u001b[1;39;49m]\u001b[0m\u001b[39;49m To update, run: \u001b[0m\u001b[32;49mpip install --upgrade pip\u001b[0m\n"
     ]
    }
   ],
   "source": [
    "!pip install kagglehub datasets"
   ]
  },
  {
   "cell_type": "code",
   "execution_count": 4,
   "id": "654bfdee",
   "metadata": {},
   "outputs": [],
   "source": [
    "import kagglehub\n",
    "from kagglehub import KaggleDatasetAdapter\n",
    "import os\n",
    "import pandas as pd"
   ]
  },
  {
   "cell_type": "code",
   "execution_count": 5,
   "id": "18e43163",
   "metadata": {},
   "outputs": [
    {
     "name": "stdout",
     "output_type": "stream",
     "text": [
      "/workspace/jupyter_notebooks/data_parquet/MedCLIP\n"
     ]
    },
    {
     "name": "stderr",
     "output_type": "stream",
     "text": [
      "/usr/local/lib/python3.10/dist-packages/IPython/core/magics/osm.py:417: UserWarning: This is now an optional IPython functionality, setting dhist requires you to install the `pickleshare` library.\n",
      "  self.shell.db['dhist'] = compress_dhist(dhist)[-100:]\n"
     ]
    }
   ],
   "source": [
    "%cd MedCLIP"
   ]
  },
  {
   "cell_type": "markdown",
   "id": "ec14d2ba",
   "metadata": {},
   "source": [
    "# Chexpert"
   ]
  },
  {
   "cell_type": "code",
   "execution_count": null,
   "id": "62a2cb1e",
   "metadata": {},
   "outputs": [
    {
     "name": "stderr",
     "output_type": "stream",
     "text": [
      "/tmp/ipykernel_6841/1710688056.py:12: DeprecationWarning: Use dataset_load() instead of load_dataset(). load_dataset() will be removed in a future version.\n",
      "  chexpert_val_csv = kagglehub.load_dataset(\n"
     ]
    }
   ],
   "source": [
    "# Install dependencies as needed:\n",
    "# pip install kagglehub[pandas-datasets]\n",
    "\n",
    "# # Download the dataset and explore available files\n",
    "# print(\"Downloading CheXpert dataset...\")\n",
    "# dataset_path = kagglehub.dataset_download('ashery/chexpert')\n",
    "# print(f\"Dataset downloaded to: {dataset_path}\")\n",
    "\n",
    "chexpert_val_csv = kagglehub.load_dataset(\n",
    "    KaggleDatasetAdapter.PANDAS,\n",
    "    \"ashery/chexpert\",\n",
    "    \"valid.csv\",\n",
    ")"
   ]
  },
  {
   "cell_type": "code",
   "execution_count": null,
   "id": "3d6ab029",
   "metadata": {},
   "outputs": [],
   "source": [
    "def create_chexpert_5x200(chexpert_val_csv):\n",
    "\n",
    "    condition_columns = ['Atelectasis', 'Cardiomegaly', 'Edema', 'Pleural Effusion', 'Consolidation']\n",
    "\n",
    "    other_cols = [col for col in condition_columns if col != 'Atelectasis']\n",
    "    unique_Atelectasis = chexpert_val_csv[(chexpert_val_csv['Atelectasis'] != 0) & \n",
    "                                    (chexpert_val_csv[other_cols] == 0).all(axis=1)]\n",
    "\n",
    "    other_cols = [col for col in condition_columns if col != 'Cardiomegaly']\n",
    "    unique_Cardiomegaly = chexpert_val_csv[(chexpert_val_csv['Cardiomegaly'] != 0) & \n",
    "                                    (chexpert_val_csv[other_cols] == 0).all(axis=1)]\n",
    "\n",
    "    other_cols = [col for col in condition_columns if col != 'Edema']\n",
    "    unique_Edema = chexpert_val_csv[(chexpert_val_csv['Edema'] != 0) & \n",
    "                            (chexpert_val_csv[other_cols] == 0).all(axis=1)]\n",
    "\n",
    "    other_cols = [col for col in condition_columns if col != 'Pleural Effusion']\n",
    "    unique_PleuralEffusion = chexpert_val_csv[(chexpert_val_csv['Pleural Effusion'] != 0) & \n",
    "                                        (chexpert_val_csv[other_cols] == 0).all(axis=1)]\n",
    "\n",
    "    other_cols = [col for col in condition_columns if col != 'Consolidation']\n",
    "    unique_Consolidation = chexpert_val_csv[(chexpert_val_csv['Consolidation'] != 0) & \n",
    "                                    (chexpert_val_csv[other_cols] == 0).all(axis=1)]\n",
    "    return unique_Atelectasis, unique_Cardiomegaly, unique_Edema, unique_PleuralEffusion, unique_Consolidation"
   ]
  },
  {
   "cell_type": "markdown",
   "id": "efb70807",
   "metadata": {},
   "source": [
    "# MIMIC CXR"
   ]
  },
  {
   "cell_type": "code",
   "execution_count": 10,
   "id": "1e2748df",
   "metadata": {},
   "outputs": [
    {
     "data": {
      "application/vnd.jupyter.widget-view+json": {
       "model_id": "0d6e89aef0284c9595ad26201394d67d",
       "version_major": 2,
       "version_minor": 0
      },
      "text/plain": [
       "Downloading readme:   0%|          | 0.00/357 [00:00<?, ?B/s]"
      ]
     },
     "metadata": {},
     "output_type": "display_data"
    },
    {
     "data": {
      "application/vnd.jupyter.widget-view+json": {
       "model_id": "3b12b238127f497aaa43a6abebfa4d56",
       "version_major": 2,
       "version_minor": 0
      },
      "text/plain": [
       "Downloading data:   0%|          | 0.00/396M [00:00<?, ?B/s]"
      ]
     },
     "metadata": {},
     "output_type": "display_data"
    },
    {
     "data": {
      "application/vnd.jupyter.widget-view+json": {
       "model_id": "e4df7e7e39c4497db309a0c9468b5f9f",
       "version_major": 2,
       "version_minor": 0
      },
      "text/plain": [
       "Downloading data:   0%|          | 0.00/397M [00:00<?, ?B/s]"
      ]
     },
     "metadata": {},
     "output_type": "display_data"
    },
    {
     "data": {
      "application/vnd.jupyter.widget-view+json": {
       "model_id": "93ea5a7e01154018a10276f06d3a56ab",
       "version_major": 2,
       "version_minor": 0
      },
      "text/plain": [
       "Generating train split:   0%|          | 0/30633 [00:00<?, ? examples/s]"
      ]
     },
     "metadata": {},
     "output_type": "display_data"
    }
   ],
   "source": [
    "from datasets import load_dataset\n",
    "\n",
    "ds = load_dataset(\"itsanmolgupta/mimic-cxr-dataset\")"
   ]
  },
  {
   "cell_type": "code",
   "execution_count": null,
   "id": "006ee809",
   "metadata": {},
   "outputs": [
    {
     "data": {
      "text/plain": [
       "DatasetDict({\n",
       "    train: Dataset({\n",
       "        features: ['image', 'findings', 'impression'],\n",
       "        num_rows: 30633\n",
       "    })\n",
       "})"
      ]
     },
     "execution_count": 11,
     "metadata": {},
     "output_type": "execute_result"
    }
   ],
   "source": [
    "ds"
   ]
  },
  {
   "cell_type": "markdown",
   "id": "fb656b15",
   "metadata": {},
   "source": [
    "# COVID 19"
   ]
  },
  {
   "cell_type": "code",
   "execution_count": 28,
   "id": "6a0440a5",
   "metadata": {},
   "outputs": [
    {
     "name": "stdout",
     "output_type": "stream",
     "text": [
      "/workspace/jupyter_notebooks/data_parquet/MedCLIP\n"
     ]
    },
    {
     "name": "stderr",
     "output_type": "stream",
     "text": [
      "/usr/local/lib/python3.10/dist-packages/IPython/core/magics/osm.py:417: UserWarning: This is now an optional IPython functionality, setting dhist requires you to install the `pickleshare` library.\n",
      "  self.shell.db['dhist'] = compress_dhist(dhist)[-100:]\n"
     ]
    }
   ],
   "source": [
    "%cd MedCLIP"
   ]
  },
  {
   "cell_type": "markdown",
   "id": "fa64e706",
   "metadata": {},
   "source": [
    "## Prepare dataset"
   ]
  },
  {
   "cell_type": "code",
   "execution_count": 7,
   "id": "46209977",
   "metadata": {},
   "outputs": [
    {
     "name": "stdout",
     "output_type": "stream",
     "text": [
      "Downloading from https://www.kaggle.com/api/v1/datasets/download/tawsifurrahman/covid19-radiography-database?dataset_version_number=5...\n"
     ]
    },
    {
     "name": "stderr",
     "output_type": "stream",
     "text": [
      "100%|██████████| 778M/778M [00:36<00:00, 22.6MB/s] "
     ]
    },
    {
     "name": "stdout",
     "output_type": "stream",
     "text": [
      "Extracting files...\n"
     ]
    },
    {
     "name": "stderr",
     "output_type": "stream",
     "text": [
      "\n"
     ]
    }
   ],
   "source": [
    "covid_data_path = kagglehub.dataset_download('tawsifurrahman/covid19-radiography-database')"
   ]
  },
  {
   "cell_type": "code",
   "execution_count": 57,
   "id": "0294e36f",
   "metadata": {},
   "outputs": [],
   "source": [
    "def create_covid_csv(covid_lst, non_covid_lst):\n",
    "    df = pd.DataFrame(columns=['imgpath', 'COVID', 'Normal'])\n",
    "    for covid in covid_lst:\n",
    "        new_row = pd.DataFrame({'imgpath': [covid], 'COVID': [1], 'Normal': [0]})\n",
    "        df = pd.concat([df, new_row], ignore_index=True)\n",
    "    for non_covid in non_covid_lst:\n",
    "        new_row = pd.DataFrame({'imgpath': [non_covid], 'COVID': [0], 'Normal': [1]})\n",
    "        df = pd.concat([df, new_row], ignore_index=True)\n",
    "    df.to_csv('local_data/covid-test-meta.csv', index=True)\n",
    "    return df"
   ]
  },
  {
   "cell_type": "code",
   "execution_count": 11,
   "id": "2ca3edf0",
   "metadata": {},
   "outputs": [],
   "source": [
    "covid_prompt = \"the presence of patchy or confluent, bandlike ground-glass opacity or consolidation in a peripheral and mid to lower lung zone distribution\""
   ]
  },
  {
   "cell_type": "code",
   "execution_count": 12,
   "id": "2b8caa01",
   "metadata": {},
   "outputs": [],
   "source": [
    "covid_data_path = os.path.join(covid_data_path, 'COVID-19_Radiography_Dataset')"
   ]
  },
  {
   "cell_type": "code",
   "execution_count": 13,
   "id": "93103b67",
   "metadata": {},
   "outputs": [
    {
     "data": {
      "text/plain": [
       "'/workspace/.cache/kagglehub/datasets/tawsifurrahman/covid19-radiography-database/versions/5/COVID-19_Radiography_Dataset'"
      ]
     },
     "execution_count": 13,
     "metadata": {},
     "output_type": "execute_result"
    }
   ],
   "source": [
    "covid_data_path"
   ]
  },
  {
   "cell_type": "code",
   "execution_count": 14,
   "id": "eb0597cc",
   "metadata": {},
   "outputs": [
    {
     "data": {
      "text/plain": [
       "['Lung_Opacity.metadata.xlsx',\n",
       " 'Viral Pneumonia',\n",
       " 'Viral Pneumonia.metadata.xlsx',\n",
       " 'Lung_Opacity',\n",
       " 'COVID.metadata.xlsx',\n",
       " 'Normal',\n",
       " 'COVID',\n",
       " 'Normal.metadata.xlsx',\n",
       " 'README.md.txt']"
      ]
     },
     "execution_count": 14,
     "metadata": {},
     "output_type": "execute_result"
    }
   ],
   "source": [
    "os.listdir(\n",
    "    covid_data_path\n",
    ")"
   ]
  },
  {
   "cell_type": "code",
   "execution_count": 18,
   "id": "6bc7defd",
   "metadata": {},
   "outputs": [],
   "source": [
    "viral_pneumonia_path = os.path.join(\n",
    "        covid_data_path,\n",
    "        'Viral Pneumonia',\n",
    "        'images'\n",
    ")\n",
    "viral_pneumonia_path_list = [os.path.join(viral_pneumonia_path, f) \n",
    "                            for f in os.listdir(viral_pneumonia_path)]\n",
    "\n",
    "lung_opacity_path = os.path.join(\n",
    "        covid_data_path,\n",
    "        'Lung_Opacity',\n",
    "        'images'\n",
    ")\n",
    "lung_opacity_path_list = [os.path.join(lung_opacity_path, f)\n",
    "                         for f in os.listdir(lung_opacity_path)]\n",
    "\n",
    "normal_path = os.path.join( \n",
    "        covid_data_path,\n",
    "        'Normal',\n",
    "        'images'\n",
    ")\n",
    "normal_path_list = [os.path.join(normal_path, f)\n",
    "                   for f in os.listdir(normal_path)]\n",
    "\n",
    "covid_path = os.path.join(\n",
    "        covid_data_path,\n",
    "        'COVID',\n",
    "        'images'\n",
    ")\n",
    "covid_path_list = [os.path.join(covid_path, f)\n",
    "                  for f in os.listdir(covid_path)]"
   ]
  },
  {
   "cell_type": "code",
   "execution_count": 58,
   "id": "1d69e5ad",
   "metadata": {},
   "outputs": [],
   "source": [
    "covid_csv = create_covid_csv(covid_path_list, \n",
    "                            viral_pneumonia_path_list + lung_opacity_path_list + normal_path_list)"
   ]
  },
  {
   "cell_type": "markdown",
   "id": "3089bda1",
   "metadata": {},
   "source": [
    "## Zero shot classification"
   ]
  },
  {
   "cell_type": "code",
   "execution_count": null,
   "id": "1a5bfe96",
   "metadata": {},
   "outputs": [],
   "source": [
    "from medclip import MedCLIPModel, MedCLIPVisionModelViT, PromptClassifier\n",
    "from medclip.dataset import ZeroShotImageDataset, ZeroShotImageCollator\n",
    "from medclip.evaluator import Evaluator\n",
    "from medclip.prompts import generate_covid_class_prompts\n",
    "from medclip.modeling_medclip import PromptClassifier\n",
    "from torch.utils.data import DataLoader"
   ]
  },
  {
   "cell_type": "code",
   "execution_count": null,
   "id": "bf5c791d",
   "metadata": {},
   "outputs": [
    {
     "name": "stdout",
     "output_type": "stream",
     "text": [
      "sample 5 num of prompts for COVID from total 12\n",
      "COVID class prompts: {'COVID': ['patchy ground glass consolidation in mid', 'confluent ground glass opacity in lower', 'confluent ground glass consolidation in mid', 'patchy ground glass opacity in lower', 'patchy ground glass consolidation in peripheral']}\n"
     ]
    }
   ],
   "source": [
    "# Generate COVID class prompts\n",
    "covid_prompts = generate_covid_class_prompts(n=5)\n",
    "print(\"COVID class prompts:\", covid_prompts)\n"
   ]
  },
  {
   "cell_type": "code",
   "execution_count": null,
   "id": "95820382",
   "metadata": {},
   "outputs": [
    {
     "name": "stderr",
     "output_type": "stream",
     "text": [
      "/usr/local/lib/python3.10/dist-packages/huggingface_hub/file_download.py:945: FutureWarning: `resume_download` is deprecated and will be removed in version 1.0.0. Downloads always resume when possible. If you want to force a new download, use `force_download=True`.\n",
      "  warnings.warn(\n",
      "Some weights of the model checkpoint at microsoft/swin-tiny-patch4-window7-224 were not used when initializing SwinModel: ['classifier.weight', 'classifier.bias']\n",
      "- This IS expected if you are initializing SwinModel from the checkpoint of a model trained on another task or with another architecture (e.g. initializing a BertForSequenceClassification model from a BertForPreTraining model).\n",
      "- This IS NOT expected if you are initializing SwinModel from the checkpoint of a model that you expect to be exactly identical (initializing a BertForSequenceClassification model from a BertForSequenceClassification model).\n",
      "Some weights of the model checkpoint at emilyalsentzer/Bio_ClinicalBERT were not used when initializing BertModel: ['cls.predictions.decoder.weight', 'cls.seq_relationship.bias', 'cls.predictions.transform.LayerNorm.bias', 'cls.predictions.transform.dense.weight', 'cls.predictions.transform.LayerNorm.weight', 'cls.predictions.transform.dense.bias', 'cls.predictions.bias', 'cls.seq_relationship.weight']\n",
      "- This IS expected if you are initializing BertModel from the checkpoint of a model trained on another task or with another architecture (e.g. initializing a BertForSequenceClassification model from a BertForPreTraining model).\n",
      "- This IS NOT expected if you are initializing BertModel from the checkpoint of a model that you expect to be exactly identical (initializing a BertForSequenceClassification model from a BertForSequenceClassification model).\n"
     ]
    },
    {
     "name": "stdout",
     "output_type": "stream",
     "text": [
      "load model weight from: ./pretrained/medclip-vit\n"
     ]
    }
   ],
   "source": [
    "class_names = ['COVID', 'Normal']\n",
    "\n",
    "covid_clf_dataset = ZeroShotImageDataset(\n",
    "    datalist=['covid-test'],\n",
    "    class_names=class_names,\n",
    "    imgtransform=None\n",
    ")\n",
    "\n",
    "# Create the collator with COVID prompts\n",
    "covid_collator = ZeroShotImageCollator(\n",
    "    mode='binary',\n",
    "    cls_prompts=covid_prompts,\n",
    "    n_prompt=5\n",
    ")\n",
    "\n",
    "covid_dataloader= DataLoader(\n",
    "    covid_clf_dataset,\n",
    "    batch_size=32,\n",
    "    shuffle=False,\n",
    "    num_workers=0,  # Set to 0 to avoid multiprocessing issues\n",
    "    collate_fn=covid_collator\n",
    ")\n",
    "\n",
    "resnet_clf = MedCLIPModel(vision_cls=MedCLIPVisionModelViT)\n",
    "resnet_clf.from_pretrained()\n",
    "resnet_clf.cuda()\n",
    "\n",
    "covid_classifier = PromptClassifier(\n",
    "    medclip_model=resnet_clf,\n",
    "    ensemble=True  \n",
    ")\n",
    "\n",
    "evaluator = Evaluator(\n",
    "    medclip_clf=covid_classifier,\n",
    "    eval_dataloader=covid_dataloader_fixed,\n",
    "    mode='binary'\n",
    ")"
   ]
  },
  {
   "cell_type": "code",
   "execution_count": null,
   "id": "651c23d0",
   "metadata": {},
   "outputs": [
    {
     "name": "stdout",
     "output_type": "stream",
     "text": [
      "Testing the dataloader...\n",
      "Batch keys: dict_keys(['pixel_values', 'prompt_inputs', 'labels'])\n",
      "Pixel values shape: torch.Size([32, 3, 224, 224])\n",
      "Labels shape: torch.Size([32])\n",
      "Prompt inputs keys: dict_keys(['COVID'])\n"
     ]
    }
   ],
   "source": [
    "print(\"Testing the dataloader...\")\n",
    "test_batch = next(iter(covid_dataloader))\n",
    "print(\"Batch keys:\", test_batch.keys())\n",
    "print(\"Pixel values shape:\", test_batch['pixel_values'].shape)\n",
    "print(\"Labels shape:\", test_batch['labels'].shape)\n",
    "print(\"Prompt inputs keys:\", test_batch['prompt_inputs'].keys())"
   ]
  },
  {
   "cell_type": "code",
   "execution_count": null,
   "id": "3aa638d9",
   "metadata": {},
   "outputs": [
    {
     "name": "stdout",
     "output_type": "stream",
     "text": [
      "\n",
      "Running full evaluation...\n"
     ]
    },
    {
     "name": "stderr",
     "output_type": "stream",
     "text": [
      "Evaluation: 100%|██████████| 662/662 [03:24<00:00,  3.24it/s]"
     ]
    },
    {
     "name": "stdout",
     "output_type": "stream",
     "text": [
      "Evaluation results: {'pred': array([[0.6567303 ],\n",
      "       [0.5656682 ],\n",
      "       [0.71994305],\n",
      "       ...,\n",
      "       [0.1561554 ],\n",
      "       [0.21197644],\n",
      "       [0.20313087]], dtype=float32), 'labels': array([0, 0, 0, ..., 1, 1, 1]), 'auc': 0.3268218378552695, 'acc': 0.8291519017245452, 'precision': 0.4145759508622726, 'recall': 0.5, 'f1-score': 0.4532985483287699}\n"
     ]
    },
    {
     "name": "stderr",
     "output_type": "stream",
     "text": [
      "\n",
      "/usr/local/lib/python3.10/dist-packages/sklearn/metrics/_classification.py:1344: UndefinedMetricWarning: Precision and F-score are ill-defined and being set to 0.0 in labels with no predicted samples. Use `zero_division` parameter to control this behavior.\n",
      "  _warn_prf(average, modifier, msg_start, len(result))\n",
      "/usr/local/lib/python3.10/dist-packages/sklearn/metrics/_classification.py:1344: UndefinedMetricWarning: Precision and F-score are ill-defined and being set to 0.0 in labels with no predicted samples. Use `zero_division` parameter to control this behavior.\n",
      "  _warn_prf(average, modifier, msg_start, len(result))\n",
      "/usr/local/lib/python3.10/dist-packages/sklearn/metrics/_classification.py:1344: UndefinedMetricWarning: Precision and F-score are ill-defined and being set to 0.0 in labels with no predicted samples. Use `zero_division` parameter to control this behavior.\n",
      "  _warn_prf(average, modifier, msg_start, len(result))\n"
     ]
    }
   ],
   "source": [
    "print(\"\\nRunning evaluation...\")\n",
    "results = evaluator.evaluate()"
   ]
  },
  {
   "cell_type": "code",
   "execution_count": 71,
   "id": "e1f053fb",
   "metadata": {},
   "outputs": [
    {
     "name": "stdout",
     "output_type": "stream",
     "text": [
      "Results: {'pred': array([[0.6567303 ],\n",
      "       [0.5656682 ],\n",
      "       [0.71994305],\n",
      "       ...,\n",
      "       [0.1561554 ],\n",
      "       [0.21197644],\n",
      "       [0.20313087]], dtype=float32), 'labels': array([0, 0, 0, ..., 1, 1, 1]), 'auc': 0.3268218378552695, 'acc': 0.8291519017245452, 'precision': 0.4145759508622726, 'recall': 0.5, 'f1-score': 0.4532985483287699}\n",
      "accuracy: 0.8291519017245452\n",
      "precision: 0.4145759508622726\n",
      "recall: 0.5\n",
      "f1_score: 0.4532985483287699\n"
     ]
    }
   ],
   "source": [
    "print(f\"Results: {results}\")\n",
    "print(f\"accuracy: {results['acc']}\")\n",
    "print(f\"precision: {results['precision']}\")\n",
    "print(f\"recall: {results['recall']}\")\n",
    "print(f\"f1_score: {results['f1-score']}\")\n"
   ]
  },
  {
   "cell_type": "markdown",
   "id": "9324987d",
   "metadata": {},
   "source": [
    "# RNSA "
   ]
  },
  {
   "cell_type": "markdown",
   "id": "11e0cea4",
   "metadata": {},
   "source": [
    "## Prepare dataset"
   ]
  },
  {
   "cell_type": "code",
   "execution_count": 6,
   "id": "4db321a9",
   "metadata": {},
   "outputs": [
    {
     "name": "stdout",
     "output_type": "stream",
     "text": [
      "Requirement already satisfied: gdown in /usr/local/lib/python3.10/dist-packages (5.2.0)\n",
      "Requirement already satisfied: pydicom in /usr/local/lib/python3.10/dist-packages (3.0.1)\n",
      "Requirement already satisfied: beautifulsoup4 in /usr/local/lib/python3.10/dist-packages (from gdown) (4.13.5)\n",
      "Requirement already satisfied: filelock in /usr/local/lib/python3.10/dist-packages (from gdown) (3.19.1)\n",
      "Requirement already satisfied: requests[socks] in /usr/local/lib/python3.10/dist-packages (from gdown) (2.32.5)\n",
      "Requirement already satisfied: tqdm in /usr/local/lib/python3.10/dist-packages (from gdown) (4.67.1)\n",
      "Requirement already satisfied: soupsieve>1.2 in /usr/local/lib/python3.10/dist-packages (from beautifulsoup4->gdown) (2.8)\n",
      "Requirement already satisfied: typing-extensions>=4.0.0 in /usr/local/lib/python3.10/dist-packages (from beautifulsoup4->gdown) (4.15.0)\n",
      "Requirement already satisfied: charset_normalizer<4,>=2 in /usr/local/lib/python3.10/dist-packages (from requests[socks]->gdown) (2.1.1)\n",
      "Requirement already satisfied: idna<4,>=2.5 in /usr/local/lib/python3.10/dist-packages (from requests[socks]->gdown) (3.10)\n",
      "Requirement already satisfied: urllib3<3,>=1.21.1 in /usr/local/lib/python3.10/dist-packages (from requests[socks]->gdown) (1.26.20)\n",
      "Requirement already satisfied: certifi>=2017.4.17 in /usr/local/lib/python3.10/dist-packages (from requests[socks]->gdown) (2025.8.3)\n",
      "Requirement already satisfied: PySocks!=1.5.7,>=1.5.6 in /usr/local/lib/python3.10/dist-packages (from requests[socks]->gdown) (1.7.1)\n",
      "\u001b[33mWARNING: Running pip as the 'root' user can result in broken permissions and conflicting behaviour with the system package manager, possibly rendering your system unusable.It is recommended to use a virtual environment instead: https://pip.pypa.io/warnings/venv. Use the --root-user-action option if you know what you are doing and want to suppress this warning.\u001b[0m\u001b[33m\n",
      "\u001b[0m\n",
      "\u001b[1m[\u001b[0m\u001b[34;49mnotice\u001b[0m\u001b[1;39;49m]\u001b[0m\u001b[39;49m A new release of pip is available: \u001b[0m\u001b[31;49m24.3.1\u001b[0m\u001b[39;49m -> \u001b[0m\u001b[32;49m25.2\u001b[0m\n",
      "\u001b[1m[\u001b[0m\u001b[34;49mnotice\u001b[0m\u001b[1;39;49m]\u001b[0m\u001b[39;49m To update, run: \u001b[0m\u001b[32;49mpip install --upgrade pip\u001b[0m\n"
     ]
    }
   ],
   "source": [
    "!pip install gdown pydicom"
   ]
  },
  {
   "cell_type": "code",
   "execution_count": 7,
   "id": "40a09f6e",
   "metadata": {},
   "outputs": [],
   "source": [
    "import gdown\n",
    "import zipfile\n",
    "\n",
    "rsna_path = \"rsna_data\"\n",
    "\n",
    "def download_rsna_dataset():    \n",
    "    url_id = \"1r2mIaytuvHQc5D77BAuIfkLeW9jGXjed\"\n",
    "    rsna_output = \"rsna_pneumonia_detection.zip\"\n",
    "    print(\"Downloading RSNA dataset from Google Drive...\")\n",
    "    gdown.download(id=url_id, output=rsna_output, quiet=False)\n",
    "    with zipfile.ZipFile(rsna_output, 'r') as zip_ref:\n",
    "        zip_ref.extractall(\"./rsna_data\")"
   ]
  },
  {
   "cell_type": "code",
   "execution_count": 8,
   "id": "3c1b1ff3",
   "metadata": {},
   "outputs": [
    {
     "name": "stdout",
     "output_type": "stream",
     "text": [
      "RSNA dataset already downloaded and extracted successfully!\n"
     ]
    }
   ],
   "source": [
    "if os.path.exists(rsna_path):\n",
    "    print(\"RSNA dataset already downloaded and extracted successfully!\")\n",
    "else:\n",
    "    download_rsna_dataset()\n",
    "    print(\"RSNA dataset downloaded and extracted successfully!\")"
   ]
  },
  {
   "cell_type": "code",
   "execution_count": 9,
   "id": "0417c93c",
   "metadata": {},
   "outputs": [],
   "source": [
    "def create_rsna_csv(pneumonia_lst, normal_lst):\n",
    "    df = pd.DataFrame(columns=['imgpath', 'Pneumonia', 'Normal'])\n",
    "    for patient_id in pneumonia_lst:\n",
    "        new_row = pd.DataFrame({'imgpath': [patient_id], 'Pneumonia': [1], 'Normal': [0]})\n",
    "        df = pd.concat([df, new_row], ignore_index=True)\n",
    "    for patient_id in normal_lst:\n",
    "        new_row = pd.DataFrame({'imgpath': [patient_id], 'Pneumonia': [0], 'Normal': [1]})\n",
    "        df = pd.concat([df, new_row], ignore_index=True)\n",
    "    df.to_csv('local_data/rsna-balanced-test-meta.csv', index=True)\n",
    "    return df"
   ]
  },
  {
   "cell_type": "code",
   "execution_count": 10,
   "id": "d285e7f4",
   "metadata": {},
   "outputs": [],
   "source": [
    "img_folder_path = \"/workspace/jupyter_notebooks/data_parquet/MedCLIP/rsna_data/stage_2_train_images\"\n",
    "train_csv = pd.read_csv(\"/workspace/jupyter_notebooks/data_parquet/MedCLIP/rsna_data/stage_2_train_labels.csv\")\n",
    "pneumonia_lst = []\n",
    "normal_lst = []\n",
    "for index, row in train_csv.iterrows():\n",
    "    if row['Target'] == 1:\n",
    "        pneumonia_lst.append(os.path.join(img_folder_path, f\"{row['patientId']}.dcm\"))\n",
    "    else:\n",
    "        normal_lst.append(os.path.join(img_folder_path, f\"{row['patientId']}.dcm\"))\n"
   ]
  },
  {
   "cell_type": "code",
   "execution_count": 11,
   "id": "d34a1b60",
   "metadata": {},
   "outputs": [
    {
     "data": {
      "text/plain": [
       "(30227, 30227)"
      ]
     },
     "execution_count": 11,
     "metadata": {},
     "output_type": "execute_result"
    }
   ],
   "source": [
    "len(pd.read_csv(\"/workspace/jupyter_notebooks/data_parquet/MedCLIP/rsna_data/stage_2_train_labels.csv\")), len(pd.read_csv(\"/workspace/jupyter_notebooks/data_parquet/MedCLIP/rsna_data/stage_2_detailed_class_info.csv\"))"
   ]
  },
  {
   "cell_type": "code",
   "execution_count": 12,
   "id": "88a1f56f",
   "metadata": {},
   "outputs": [
    {
     "data": {
      "text/html": [
       "<div>\n",
       "<style scoped>\n",
       "    .dataframe tbody tr th:only-of-type {\n",
       "        vertical-align: middle;\n",
       "    }\n",
       "\n",
       "    .dataframe tbody tr th {\n",
       "        vertical-align: top;\n",
       "    }\n",
       "\n",
       "    .dataframe thead th {\n",
       "        text-align: right;\n",
       "    }\n",
       "</style>\n",
       "<table border=\"1\" class=\"dataframe\">\n",
       "  <thead>\n",
       "    <tr style=\"text-align: right;\">\n",
       "      <th></th>\n",
       "      <th>imgpath</th>\n",
       "      <th>Pneumonia</th>\n",
       "      <th>Normal</th>\n",
       "    </tr>\n",
       "  </thead>\n",
       "  <tbody>\n",
       "    <tr>\n",
       "      <th>0</th>\n",
       "      <td>/workspace/jupyter_notebooks/data_parquet/MedC...</td>\n",
       "      <td>1</td>\n",
       "      <td>0</td>\n",
       "    </tr>\n",
       "    <tr>\n",
       "      <th>1</th>\n",
       "      <td>/workspace/jupyter_notebooks/data_parquet/MedC...</td>\n",
       "      <td>1</td>\n",
       "      <td>0</td>\n",
       "    </tr>\n",
       "    <tr>\n",
       "      <th>2</th>\n",
       "      <td>/workspace/jupyter_notebooks/data_parquet/MedC...</td>\n",
       "      <td>1</td>\n",
       "      <td>0</td>\n",
       "    </tr>\n",
       "    <tr>\n",
       "      <th>3</th>\n",
       "      <td>/workspace/jupyter_notebooks/data_parquet/MedC...</td>\n",
       "      <td>1</td>\n",
       "      <td>0</td>\n",
       "    </tr>\n",
       "    <tr>\n",
       "      <th>4</th>\n",
       "      <td>/workspace/jupyter_notebooks/data_parquet/MedC...</td>\n",
       "      <td>1</td>\n",
       "      <td>0</td>\n",
       "    </tr>\n",
       "    <tr>\n",
       "      <th>...</th>\n",
       "      <td>...</td>\n",
       "      <td>...</td>\n",
       "      <td>...</td>\n",
       "    </tr>\n",
       "    <tr>\n",
       "      <th>30222</th>\n",
       "      <td>/workspace/jupyter_notebooks/data_parquet/MedC...</td>\n",
       "      <td>0</td>\n",
       "      <td>1</td>\n",
       "    </tr>\n",
       "    <tr>\n",
       "      <th>30223</th>\n",
       "      <td>/workspace/jupyter_notebooks/data_parquet/MedC...</td>\n",
       "      <td>0</td>\n",
       "      <td>1</td>\n",
       "    </tr>\n",
       "    <tr>\n",
       "      <th>30224</th>\n",
       "      <td>/workspace/jupyter_notebooks/data_parquet/MedC...</td>\n",
       "      <td>0</td>\n",
       "      <td>1</td>\n",
       "    </tr>\n",
       "    <tr>\n",
       "      <th>30225</th>\n",
       "      <td>/workspace/jupyter_notebooks/data_parquet/MedC...</td>\n",
       "      <td>0</td>\n",
       "      <td>1</td>\n",
       "    </tr>\n",
       "    <tr>\n",
       "      <th>30226</th>\n",
       "      <td>/workspace/jupyter_notebooks/data_parquet/MedC...</td>\n",
       "      <td>0</td>\n",
       "      <td>1</td>\n",
       "    </tr>\n",
       "  </tbody>\n",
       "</table>\n",
       "<p>30227 rows × 3 columns</p>\n",
       "</div>"
      ],
      "text/plain": [
       "                                                 imgpath Pneumonia Normal\n",
       "0      /workspace/jupyter_notebooks/data_parquet/MedC...         1      0\n",
       "1      /workspace/jupyter_notebooks/data_parquet/MedC...         1      0\n",
       "2      /workspace/jupyter_notebooks/data_parquet/MedC...         1      0\n",
       "3      /workspace/jupyter_notebooks/data_parquet/MedC...         1      0\n",
       "4      /workspace/jupyter_notebooks/data_parquet/MedC...         1      0\n",
       "...                                                  ...       ...    ...\n",
       "30222  /workspace/jupyter_notebooks/data_parquet/MedC...         0      1\n",
       "30223  /workspace/jupyter_notebooks/data_parquet/MedC...         0      1\n",
       "30224  /workspace/jupyter_notebooks/data_parquet/MedC...         0      1\n",
       "30225  /workspace/jupyter_notebooks/data_parquet/MedC...         0      1\n",
       "30226  /workspace/jupyter_notebooks/data_parquet/MedC...         0      1\n",
       "\n",
       "[30227 rows x 3 columns]"
      ]
     },
     "execution_count": 12,
     "metadata": {},
     "output_type": "execute_result"
    }
   ],
   "source": [
    "create_rsna_csv(pneumonia_lst, normal_lst)"
   ]
  },
  {
   "cell_type": "markdown",
   "id": "4a7b2f1b",
   "metadata": {},
   "source": [
    "## Zero shot classification"
   ]
  },
  {
   "cell_type": "code",
   "execution_count": 13,
   "id": "23e1a6d6",
   "metadata": {},
   "outputs": [],
   "source": [
    "from medclip import MedCLIPModel, MedCLIPVisionModelViT, PromptClassifier\n",
    "from medclip.dataset import ZeroShotImageDataset, ZeroShotImageCollator\n",
    "from medclip.evaluator import Evaluator\n",
    "from medclip.prompts import generate_rsna_class_prompts\n",
    "from medclip.modeling_medclip import PromptClassifier\n",
    "from torch.utils.data import DataLoader"
   ]
  },
  {
   "cell_type": "code",
   "execution_count": 14,
   "id": "9827fe0e",
   "metadata": {},
   "outputs": [
    {
     "name": "stdout",
     "output_type": "stream",
     "text": [
      "sample 5 num of prompts for Pneumonia from total 312\n",
      "RSNA class prompts: {'Pneumonia': ['early  ', 'multifocal mycoplasma at the left lower lobe', 'early viral at the left lung zone', ' viral at the left middle lobe', 'focal  at the right lung base']}\n"
     ]
    }
   ],
   "source": [
    "# Generate RSNA class prompts\n",
    "rsna_prompts = generate_rsna_class_prompts(n=5)\n",
    "print(\"RSNA class prompts:\", rsna_prompts)"
   ]
  },
  {
   "cell_type": "code",
   "execution_count": 16,
   "id": "187a9df1",
   "metadata": {},
   "outputs": [
    {
     "name": "stdout",
     "output_type": "stream",
     "text": [
      "load data from ./local_data/rsna-balanced-test-meta.csv\n"
     ]
    },
    {
     "name": "stderr",
     "output_type": "stream",
     "text": [
      "/usr/local/lib/python3.10/dist-packages/huggingface_hub/file_download.py:945: FutureWarning: `resume_download` is deprecated and will be removed in version 1.0.0. Downloads always resume when possible. If you want to force a new download, use `force_download=True`.\n",
      "  warnings.warn(\n",
      "/usr/local/lib/python3.10/dist-packages/torch/functional.py:554: UserWarning: torch.meshgrid: in an upcoming release, it will be required to pass the indexing argument. (Triggered internally at /pytorch/aten/src/ATen/native/TensorShape.cpp:4322.)\n",
      "  return _VF.meshgrid(tensors, **kwargs)  # type: ignore[attr-defined]\n",
      "Some weights of the model checkpoint at microsoft/swin-tiny-patch4-window7-224 were not used when initializing SwinModel: ['classifier.weight', 'classifier.bias']\n",
      "- This IS expected if you are initializing SwinModel from the checkpoint of a model trained on another task or with another architecture (e.g. initializing a BertForSequenceClassification model from a BertForPreTraining model).\n",
      "- This IS NOT expected if you are initializing SwinModel from the checkpoint of a model that you expect to be exactly identical (initializing a BertForSequenceClassification model from a BertForSequenceClassification model).\n",
      "Some weights of the model checkpoint at emilyalsentzer/Bio_ClinicalBERT were not used when initializing BertModel: ['cls.seq_relationship.weight', 'cls.predictions.bias', 'cls.predictions.transform.LayerNorm.weight', 'cls.predictions.transform.dense.bias', 'cls.predictions.decoder.weight', 'cls.seq_relationship.bias', 'cls.predictions.transform.LayerNorm.bias', 'cls.predictions.transform.dense.weight']\n",
      "- This IS expected if you are initializing BertModel from the checkpoint of a model trained on another task or with another architecture (e.g. initializing a BertForSequenceClassification model from a BertForPreTraining model).\n",
      "- This IS NOT expected if you are initializing BertModel from the checkpoint of a model that you expect to be exactly identical (initializing a BertForSequenceClassification model from a BertForSequenceClassification model).\n"
     ]
    },
    {
     "name": "stdout",
     "output_type": "stream",
     "text": [
      "load model weight from: ./pretrained/medclip-vit\n"
     ]
    }
   ],
   "source": [
    "class_names = ['Pneumonia', 'Normal']\n",
    "\n",
    "# Use the DICOM-compatible dataset class for RSNA data\n",
    "rsna_clf_dataset = ZeroShotImageDataset(\n",
    "    datalist=['rsna-balanced-test'],\n",
    "    class_names=class_names,\n",
    "    imgtransform=None\n",
    ")\n",
    "\n",
    "# Create the collator with RSNA prompts\n",
    "rsna_collator = ZeroShotImageCollator(\n",
    "    mode='binary',\n",
    "    cls_prompts=rsna_prompts,\n",
    "    n_prompt=5\n",
    ")\n",
    "\n",
    "rsna_dataloader= DataLoader(\n",
    "    rsna_clf_dataset,\n",
    "    batch_size=32,\n",
    "    shuffle=True,\n",
    "    num_workers=0,  # Set to 0 to avoid multiprocessing issues\n",
    "    collate_fn=rsna_collator\n",
    ")\n",
    "\n",
    "resnet_clf = MedCLIPModel(vision_cls=MedCLIPVisionModelViT)\n",
    "resnet_clf.from_pretrained()\n",
    "resnet_clf.cuda()\n",
    "\n",
    "rsna_classifier = PromptClassifier(\n",
    "    medclip_model=resnet_clf,\n",
    "    ensemble=True  \n",
    ")\n",
    "\n",
    "evaluator = Evaluator(\n",
    "    medclip_clf=rsna_classifier,\n",
    "    eval_dataloader=rsna_dataloader,\n",
    "    mode='binary'\n",
    ")"
   ]
  },
  {
   "cell_type": "code",
   "execution_count": 17,
   "id": "c1c19b9e",
   "metadata": {},
   "outputs": [
    {
     "name": "stdout",
     "output_type": "stream",
     "text": [
      "Testing the dataloader...\n",
      "Batch keys: dict_keys(['pixel_values', 'prompt_inputs', 'labels'])\n",
      "Pixel values shape: torch.Size([32, 3, 224, 224])\n",
      "Labels shape: torch.Size([32])\n",
      "Prompt inputs keys: dict_keys(['Pneumonia'])\n"
     ]
    }
   ],
   "source": [
    "print(\"Testing the dataloader...\")\n",
    "test_batch = next(iter(rsna_dataloader))\n",
    "print(\"Batch keys:\", test_batch.keys())\n",
    "print(\"Pixel values shape:\", test_batch['pixel_values'].shape)\n",
    "print(\"Labels shape:\", test_batch['labels'].shape)\n",
    "print(\"Prompt inputs keys:\", test_batch['prompt_inputs'].keys())"
   ]
  },
  {
   "cell_type": "code",
   "execution_count": 18,
   "id": "8c784d3a",
   "metadata": {},
   "outputs": [
    {
     "name": "stdout",
     "output_type": "stream",
     "text": [
      "\n",
      "Running RSNA evaluation with DICOM support...\n"
     ]
    },
    {
     "name": "stderr",
     "output_type": "stream",
     "text": [
      "Evaluation: 100%|██████████| 945/945 [09:04<00:00,  1.74it/s]"
     ]
    },
    {
     "name": "stdout",
     "output_type": "stream",
     "text": [
      "Results: {'pred': array([[0.41325304],\n",
      "       [0.28632236],\n",
      "       [0.39889213],\n",
      "       ...,\n",
      "       [0.4238336 ],\n",
      "       [0.36507756],\n",
      "       [0.39240953]], dtype=float32), 'labels': array([1, 1, 1, ..., 1, 1, 0]), 'auc': 0.4722937606216575, 'acc': 0.6838918847388097, 'precision': 0.34194594236940484, 'recall': 0.5, 'f1-score': 0.40613764514037604}\n",
      "accuracy: 0.6838918847388097\n",
      "precision: 0.34194594236940484\n",
      "recall: 0.5\n",
      "f1_score: 0.40613764514037604\n"
     ]
    },
    {
     "name": "stderr",
     "output_type": "stream",
     "text": [
      "\n",
      "/usr/local/lib/python3.10/dist-packages/sklearn/metrics/_classification.py:1344: UndefinedMetricWarning: Precision and F-score are ill-defined and being set to 0.0 in labels with no predicted samples. Use `zero_division` parameter to control this behavior.\n",
      "  _warn_prf(average, modifier, msg_start, len(result))\n",
      "/usr/local/lib/python3.10/dist-packages/sklearn/metrics/_classification.py:1344: UndefinedMetricWarning: Precision and F-score are ill-defined and being set to 0.0 in labels with no predicted samples. Use `zero_division` parameter to control this behavior.\n",
      "  _warn_prf(average, modifier, msg_start, len(result))\n",
      "/usr/local/lib/python3.10/dist-packages/sklearn/metrics/_classification.py:1344: UndefinedMetricWarning: Precision and F-score are ill-defined and being set to 0.0 in labels with no predicted samples. Use `zero_division` parameter to control this behavior.\n",
      "  _warn_prf(average, modifier, msg_start, len(result))\n"
     ]
    }
   ],
   "source": [
    "# Run RSNA evaluation\n",
    "print(\"\\nRunning RSNA evaluation...\")\n",
    "try:\n",
    "    results = evaluator.evaluate()\n",
    "    print(f\"Results: {results}\")\n",
    "    print(f\"accuracy: {results['acc']}\")\n",
    "    print(f\"precision: {results['precision']}\")\n",
    "    print(f\"recall: {results['recall']}\")\n",
    "    print(f\"f1_score: {results['f1-score']}\")\n",
    "except Exception as e:\n",
    "    print(f\"Evaluation failed with error: {e}\")\n",
    "    import traceback\n",
    "    traceback.print_exc()\n"
   ]
  },
  {
   "cell_type": "code",
   "execution_count": null,
   "id": "16e8829a",
   "metadata": {},
   "outputs": [],
   "source": []
  }
 ],
 "metadata": {
  "kernelspec": {
   "display_name": "Python 3",
   "language": "python",
   "name": "python3"
  },
  "language_info": {
   "codemirror_mode": {
    "name": "ipython",
    "version": 3
   },
   "file_extension": ".py",
   "mimetype": "text/x-python",
   "name": "python",
   "nbconvert_exporter": "python",
   "pygments_lexer": "ipython3",
   "version": "3.10.12"
  }
 },
 "nbformat": 4,
 "nbformat_minor": 5
}
