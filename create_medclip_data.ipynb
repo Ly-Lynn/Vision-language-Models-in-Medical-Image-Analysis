{
 "cells": [
  {
   "cell_type": "markdown",
   "id": "2f06c2e6",
   "metadata": {},
   "source": [
    "# RNSA"
   ]
  },
  {
   "cell_type": "code",
   "execution_count": null,
   "id": "aed4c041",
   "metadata": {},
   "outputs": [],
   "source": [
    "%pip install gdown pydicom"
   ]
  },
  {
   "cell_type": "code",
   "execution_count": null,
   "id": "a947345c",
   "metadata": {},
   "outputs": [],
   "source": [
    "import gdown\n",
    "import zipfile\n",
    "import os\n",
    "import pandas as pd\n",
    "\n",
    "rsna_path = \"rsna_data\""
   ]
  },
  {
   "cell_type": "code",
   "execution_count": null,
   "id": "b566adb7",
   "metadata": {},
   "outputs": [],
   "source": [
    "def download_rsna_dataset():    \n",
    "    url_id = \"1r2mIaytuvHQc5D77BAuIfkLeW9jGXjed\"\n",
    "    rsna_output = \"rsna_pneumonia_detection.zip\"\n",
    "    print(\"Downloading RSNA dataset from Google Drive...\")\n",
    "    gdown.download(id=url_id, output=rsna_output, quiet=False)\n",
    "    with zipfile.ZipFile(rsna_output, 'r') as zip_ref:\n",
    "        zip_ref.extractall(\"./rsna_data\")"
   ]
  },
  {
   "cell_type": "code",
   "execution_count": null,
   "id": "aaab47e9",
   "metadata": {},
   "outputs": [],
   "source": [
    "if os.path.exists(rsna_path):\n",
    "    print(\"RSNA dataset already downloaded and extracted successfully!\")\n",
    "else:\n",
    "    download_rsna_dataset()\n",
    "    print(\"RSNA dataset downloaded and extracted successfully!\")"
   ]
  },
  {
   "cell_type": "code",
   "execution_count": null,
   "id": "3cd5a5e7",
   "metadata": {},
   "outputs": [],
   "source": [
    "def create_rsna_csv(pneumonia_lst, normal_lst):\n",
    "    df = pd.DataFrame(columns=['imgpath', 'Pneumonia', 'Normal'])\n",
    "    for patient_id in pneumonia_lst:\n",
    "        new_row = pd.DataFrame({'imgpath': [patient_id], 'Pneumonia': [1], 'Normal': [0]})\n",
    "        df = pd.concat([df, new_row], ignore_index=True)\n",
    "    for patient_id in normal_lst:\n",
    "        new_row = pd.DataFrame({'imgpath': [patient_id], 'Pneumonia': [0], 'Normal': [1]})\n",
    "        df = pd.concat([df, new_row], ignore_index=True)\n",
    "    os.makedirs('local_data', exist_ok=True)\n",
    "    df.to_csv('local_data/rsna-balanced-test-meta.csv', index=True)\n",
    "    return df"
   ]
  },
  {
   "cell_type": "code",
   "execution_count": null,
   "id": "1379bd62",
   "metadata": {},
   "outputs": [],
   "source": [
    "img_folder_path = \"rsna_data/stage_2_train_images\"\n",
    "train_csv = pd.read_csv(\"rsna_data/stage_2_train_labels.csv\")\n",
    "pneumonia_lst = []\n",
    "normal_lst = []\n",
    "for index, row in train_csv.iterrows():\n",
    "    if row['Target'] == 1:\n",
    "        pneumonia_lst.append(os.path.join(img_folder_path, f\"{row['patientId']}.dcm\"))\n",
    "    else:\n",
    "        normal_lst.append(os.path.join(img_folder_path, f\"{row['patientId']}.dcm\"))"
   ]
  },
  {
   "cell_type": "code",
   "execution_count": null,
   "id": "e9011354",
   "metadata": {},
   "outputs": [],
   "source": [
    "create_rsna_csv(pneumonia_lst, normal_lst)"
   ]
  }
 ],
 "metadata": {
  "language_info": {
   "name": "python"
  }
 },
 "nbformat": 4,
 "nbformat_minor": 5
}
